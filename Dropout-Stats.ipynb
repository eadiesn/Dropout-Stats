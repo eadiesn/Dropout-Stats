{
 "metadata": {
  "name": ""
 },
 "nbformat": 3,
 "nbformat_minor": 0,
 "worksheets": [
  {
   "cells": [
    {
     "cell_type": "code",
     "collapsed": false,
     "input": [
      "import pandas"
     ],
     "language": "python",
     "metadata": {},
     "outputs": [],
     "prompt_number": 2
    },
    {
     "cell_type": "code",
     "collapsed": false,
     "input": [
      "ls"
     ],
     "language": "python",
     "metadata": {},
     "outputs": [
      {
       "output_type": "stream",
       "stream": "stdout",
       "text": [
        "\u001b[0m\u001b[01;34mDesktop\u001b[0m/    \u001b[01;34mPictures\u001b[0m/         unemploymenteducationclean.csv\r\n",
        "\u001b[01;34mDocuments\u001b[0m/  Practice 1.ipynb  unemploymenteducationclean.xls\r\n",
        "\u001b[01;34mDownloads\u001b[0m/  \u001b[01;34mPublic\u001b[0m/           unemploymenteducation.xls\r\n",
        "\u001b[01;34mMusic\u001b[0m/      \u001b[01;34mTemplates\u001b[0m/        \u001b[01;34mVideos\u001b[0m/\r\n"
       ]
      }
     ],
     "prompt_number": 6
    },
    {
     "cell_type": "code",
     "collapsed": false,
     "input": [
      "df = pandas.read_csv('unemploymenteducationclean.csv')"
     ],
     "language": "python",
     "metadata": {},
     "outputs": [],
     "prompt_number": 7
    },
    {
     "cell_type": "code",
     "collapsed": false,
     "input": [
      "print unemploymenteducationclean.csv"
     ],
     "language": "python",
     "metadata": {},
     "outputs": [
      {
       "ename": "NameError",
       "evalue": "name 'unemploymenteducationclean' is not defined",
       "output_type": "pyerr",
       "traceback": [
        "\u001b[1;31m---------------------------------------------------------------------------\u001b[0m\n\u001b[1;31mNameError\u001b[0m                                 Traceback (most recent call last)",
        "\u001b[1;32m<ipython-input-10-df7bb5543e6e>\u001b[0m in \u001b[0;36m<module>\u001b[1;34m()\u001b[0m\n\u001b[1;32m----> 1\u001b[1;33m \u001b[1;32mprint\u001b[0m \u001b[0munemploymenteducationclean\u001b[0m\u001b[1;33m.\u001b[0m\u001b[0mcsv\u001b[0m\u001b[1;33m\u001b[0m\u001b[0m\n\u001b[0m",
        "\u001b[1;31mNameError\u001b[0m: name 'unemploymenteducationclean' is not defined"
       ]
      }
     ],
     "prompt_number": 10
    },
    {
     "cell_type": "code",
     "collapsed": false,
     "input": [
      "df"
     ],
     "language": "python",
     "metadata": {},
     "outputs": [
      {
       "html": [
        "<div style=\"max-height:1000px;max-width:1500px;overflow:auto;\">\n",
        "<table border=\"1\" class=\"dataframe\">\n",
        "  <thead>\n",
        "    <tr style=\"text-align: right;\">\n",
        "      <th></th>\n",
        "      <th>Year</th>\n",
        "      <th>dropoutnumber</th>\n",
        "      <th>laborparticipationrate</th>\n",
        "      <th>totaldropoutsinforce</th>\n",
        "      <th>dropoutsemployed</th>\n",
        "      <th>dropoutsunemployed</th>\n",
        "      <th>dropoutunemploymentrate</th>\n",
        "      <th>dropoutsnotinlaborforce</th>\n",
        "    </tr>\n",
        "  </thead>\n",
        "  <tbody>\n",
        "    <tr>\n",
        "      <th>0 </th>\n",
        "      <td> 1980</td>\n",
        "      <td> 738</td>\n",
        "      <td> 63.8</td>\n",
        "      <td> 471</td>\n",
        "      <td> 323</td>\n",
        "      <td> 148</td>\n",
        "      <td> 31.4</td>\n",
        "      <td> 267</td>\n",
        "    </tr>\n",
        "    <tr>\n",
        "      <th>1 </th>\n",
        "      <td> 1985</td>\n",
        "      <td> 610</td>\n",
        "      <td> 67.5</td>\n",
        "      <td> 412</td>\n",
        "      <td> 265</td>\n",
        "      <td> 147</td>\n",
        "      <td> 35.6</td>\n",
        "      <td> 198</td>\n",
        "    </tr>\n",
        "    <tr>\n",
        "      <th>2 </th>\n",
        "      <td> 1990</td>\n",
        "      <td> 412</td>\n",
        "      <td> 67.8</td>\n",
        "      <td> 279</td>\n",
        "      <td> 190</td>\n",
        "      <td>  89</td>\n",
        "      <td> 31.8</td>\n",
        "      <td> 132</td>\n",
        "    </tr>\n",
        "    <tr>\n",
        "      <th>3 </th>\n",
        "      <td> 1995</td>\n",
        "      <td> 604</td>\n",
        "      <td> 67.7</td>\n",
        "      <td> 409</td>\n",
        "      <td> 288</td>\n",
        "      <td> 121</td>\n",
        "      <td> 29.6</td>\n",
        "      <td> 195</td>\n",
        "    </tr>\n",
        "    <tr>\n",
        "      <th>4 </th>\n",
        "      <td> 2000</td>\n",
        "      <td> 515</td>\n",
        "      <td> 68.0</td>\n",
        "      <td> 350</td>\n",
        "      <td> 252</td>\n",
        "      <td>  99</td>\n",
        "      <td> 28.1</td>\n",
        "      <td> 165</td>\n",
        "    </tr>\n",
        "    <tr>\n",
        "      <th>5 </th>\n",
        "      <td> 2001</td>\n",
        "      <td> 506</td>\n",
        "      <td> 64.0</td>\n",
        "      <td> 324</td>\n",
        "      <td> 207</td>\n",
        "      <td> 116</td>\n",
        "      <td> 35.9</td>\n",
        "      <td> 182</td>\n",
        "    </tr>\n",
        "    <tr>\n",
        "      <th>6 </th>\n",
        "      <td> 2002</td>\n",
        "      <td> 401</td>\n",
        "      <td> 67.7</td>\n",
        "      <td> 271</td>\n",
        "      <td> 191</td>\n",
        "      <td>  81</td>\n",
        "      <td> 29.8</td>\n",
        "      <td> 129</td>\n",
        "    </tr>\n",
        "    <tr>\n",
        "      <th>7 </th>\n",
        "      <td> 2003</td>\n",
        "      <td> 457</td>\n",
        "      <td> 59.3</td>\n",
        "      <td> 271</td>\n",
        "      <td> 187</td>\n",
        "      <td>  84</td>\n",
        "      <td> 30.8</td>\n",
        "      <td> 186</td>\n",
        "    </tr>\n",
        "    <tr>\n",
        "      <th>8 </th>\n",
        "      <td> 2004</td>\n",
        "      <td> 496</td>\n",
        "      <td> 53.7</td>\n",
        "      <td> 267</td>\n",
        "      <td> 160</td>\n",
        "      <td> 106</td>\n",
        "      <td> 39.9</td>\n",
        "      <td> 229</td>\n",
        "    </tr>\n",
        "    <tr>\n",
        "      <th>9 </th>\n",
        "      <td> 2005</td>\n",
        "      <td> 407</td>\n",
        "      <td> 57.2</td>\n",
        "      <td> 233</td>\n",
        "      <td> 156</td>\n",
        "      <td>  77</td>\n",
        "      <td> 32.9</td>\n",
        "      <td> 174</td>\n",
        "    </tr>\n",
        "    <tr>\n",
        "      <th>10</th>\n",
        "      <td> 2006</td>\n",
        "      <td> 445</td>\n",
        "      <td> 52.8</td>\n",
        "      <td> 235</td>\n",
        "      <td> 180</td>\n",
        "      <td>  55</td>\n",
        "      <td> 23.6</td>\n",
        "      <td> 210</td>\n",
        "    </tr>\n",
        "    <tr>\n",
        "      <th>11</th>\n",
        "      <td> 2007</td>\n",
        "      <td> 426</td>\n",
        "      <td> 56.2</td>\n",
        "      <td> 239</td>\n",
        "      <td> 175</td>\n",
        "      <td>  64</td>\n",
        "      <td> 26.9</td>\n",
        "      <td> 187</td>\n",
        "    </tr>\n",
        "    <tr>\n",
        "      <th>12</th>\n",
        "      <td> 2008</td>\n",
        "      <td> 400</td>\n",
        "      <td> 48.4</td>\n",
        "      <td> 194</td>\n",
        "      <td> 117</td>\n",
        "      <td>  77</td>\n",
        "      <td> 39.5</td>\n",
        "      <td> 206</td>\n",
        "    </tr>\n",
        "    <tr>\n",
        "      <th>13</th>\n",
        "      <td> 2009</td>\n",
        "      <td> 383</td>\n",
        "      <td> 48.5</td>\n",
        "      <td> 186</td>\n",
        "      <td>  83</td>\n",
        "      <td> 103</td>\n",
        "      <td> 55.1</td>\n",
        "      <td> 198</td>\n",
        "    </tr>\n",
        "  </tbody>\n",
        "</table>\n",
        "<p>14 rows \u00d7 8 columns</p>\n",
        "</div>"
       ],
       "metadata": {},
       "output_type": "pyout",
       "prompt_number": 12,
       "text": [
        "    Year  dropoutnumber  laborparticipationrate  totaldropoutsinforce  \\\n",
        "0   1980            738                    63.8                   471   \n",
        "1   1985            610                    67.5                   412   \n",
        "2   1990            412                    67.8                   279   \n",
        "3   1995            604                    67.7                   409   \n",
        "4   2000            515                    68.0                   350   \n",
        "5   2001            506                    64.0                   324   \n",
        "6   2002            401                    67.7                   271   \n",
        "7   2003            457                    59.3                   271   \n",
        "8   2004            496                    53.7                   267   \n",
        "9   2005            407                    57.2                   233   \n",
        "10  2006            445                    52.8                   235   \n",
        "11  2007            426                    56.2                   239   \n",
        "12  2008            400                    48.4                   194   \n",
        "13  2009            383                    48.5                   186   \n",
        "\n",
        "    dropoutsemployed  dropoutsunemployed  dropoutunemploymentrate  \\\n",
        "0                323                 148                     31.4   \n",
        "1                265                 147                     35.6   \n",
        "2                190                  89                     31.8   \n",
        "3                288                 121                     29.6   \n",
        "4                252                  99                     28.1   \n",
        "5                207                 116                     35.9   \n",
        "6                191                  81                     29.8   \n",
        "7                187                  84                     30.8   \n",
        "8                160                 106                     39.9   \n",
        "9                156                  77                     32.9   \n",
        "10               180                  55                     23.6   \n",
        "11               175                  64                     26.9   \n",
        "12               117                  77                     39.5   \n",
        "13                83                 103                     55.1   \n",
        "\n",
        "    dropoutsnotinlaborforce  \n",
        "0                       267  \n",
        "1                       198  \n",
        "2                       132  \n",
        "3                       195  \n",
        "4                       165  \n",
        "5                       182  \n",
        "6                       129  \n",
        "7                       186  \n",
        "8                       229  \n",
        "9                       174  \n",
        "10                      210  \n",
        "11                      187  \n",
        "12                      206  \n",
        "13                      198  \n",
        "\n",
        "[14 rows x 8 columns]"
       ]
      }
     ],
     "prompt_number": 12
    },
    {
     "cell_type": "code",
     "collapsed": false,
     "input": [
      "%pylab inline\n",
      "import matplotlib.pyplot as plt"
     ],
     "language": "python",
     "metadata": {},
     "outputs": [
      {
       "output_type": "stream",
       "stream": "stdout",
       "text": [
        "Populating the interactive namespace from numpy and matplotlib\n"
       ]
      }
     ],
     "prompt_number": 33
    },
    {
     "cell_type": "code",
     "collapsed": false,
     "input": [
      "plt.plot(df.Year,df.dropoutnumber)\n",
      "plt.xlabel('Year')\n",
      "plt.ylabel('Number of High School Dropouts (In Thousands)')"
     ],
     "language": "python",
     "metadata": {},
     "outputs": [
      {
       "metadata": {},
       "output_type": "pyout",
       "prompt_number": 39,
       "text": [
        "<matplotlib.text.Text at 0x4e16890>"
       ]
      },
      {
       "metadata": {},
       "output_type": "display_data",
       "png": "[encoded data removed]",
       "text": [
        "<matplotlib.figure.Figure at 0x3edf8d0>"
       ]
      }
     ],
     "prompt_number": 39
    },
    {
     "cell_type": "code",
     "collapsed": false,
     "input": [
      "plt.plot(df.Year,df.laborparticipationrate)\n",
      "plt.xlabel('Year')\n",
      "plt.ylabel('Labor Participation Rate of Dropouts')"
     ],
     "language": "python",
     "metadata": {},
     "outputs": [
      {
       "metadata": {},
       "output_type": "pyout",
       "prompt_number": 45,
       "text": [
        "<matplotlib.text.Text at 0x5762190>"
       ]
      },
      {
       "metadata": {},
       "output_type": "display_data",
       "png": "[encoded data removed]",
       "text": [
        "<matplotlib.figure.Figure at 0x4e11650>"
       ]
      }
     ],
     "prompt_number": 45
    },
    {
     "cell_type": "code",
     "collapsed": false,
     "input": [],
     "language": "python",
     "metadata": {},
     "outputs": []
    }
   ],
   "metadata": {}
  }
 ]
}